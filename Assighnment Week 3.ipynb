{
 "cells": [
  {
   "cell_type": "markdown",
   "id": "458cfe72-bdf8-407b-ab10-c7def33f7098",
   "metadata": {},
   "source": [
    "# My Jupiter Notebook On Skills Network Lab"
   ]
  },
  {
   "cell_type": "markdown",
   "id": "a95a0298-718b-4adb-86b9-38b9c024eebd",
   "metadata": {},
   "source": [
    "# Muhammad Haroon Saeed\n",
    "# final Year Chemical Engineering Student(Aiming to become a Data Scientist as Well)"
   ]
  },
  {
   "cell_type": "markdown",
   "id": "d2f0c3dc-c20b-4add-a209-fcd548ce5d38",
   "metadata": {},
   "source": [
    "*I am Interested in Data Science Because i want to combine chemical engineering and deep learning to do those things which usually requires human intervention in chemical production plants* "
   ]
  },
  {
   "cell_type": "markdown",
   "id": "f4884667-0984-4746-927b-4b640fff494d",
   "metadata": {},
   "source": [
    "# My Code Is Supposed to load a simple data in R"
   ]
  },
  {
   "cell_type": "code",
   "execution_count": 13,
   "id": "767a4112-6f41-4974-a9cb-5422acc5c2e2",
   "metadata": {},
   "outputs": [
    {
     "name": "stderr",
     "output_type": "stream",
     "text": [
      "Updating HTML index of packages in '.Library'\n",
      "Making 'packages.html' ... done\n"
     ]
    },
    {
     "data": {
      "text/html": [
       "<table>\n",
       "<caption>A tibble: 6 × 8</caption>\n",
       "<thead>\n",
       "\t<tr><th scope=col>species</th><th scope=col>island</th><th scope=col>bill_length_mm</th><th scope=col>bill_depth_mm</th><th scope=col>flipper_length_mm</th><th scope=col>body_mass_g</th><th scope=col>sex</th><th scope=col>year</th></tr>\n",
       "\t<tr><th scope=col>&lt;fct&gt;</th><th scope=col>&lt;fct&gt;</th><th scope=col>&lt;dbl&gt;</th><th scope=col>&lt;dbl&gt;</th><th scope=col>&lt;int&gt;</th><th scope=col>&lt;int&gt;</th><th scope=col>&lt;fct&gt;</th><th scope=col>&lt;int&gt;</th></tr>\n",
       "</thead>\n",
       "<tbody>\n",
       "\t<tr><td>Adelie</td><td>Torgersen</td><td>39.1</td><td>18.7</td><td>181</td><td>3750</td><td>male  </td><td>2007</td></tr>\n",
       "\t<tr><td>Adelie</td><td>Torgersen</td><td>39.5</td><td>17.4</td><td>186</td><td>3800</td><td>female</td><td>2007</td></tr>\n",
       "\t<tr><td>Adelie</td><td>Torgersen</td><td>40.3</td><td>18.0</td><td>195</td><td>3250</td><td>female</td><td>2007</td></tr>\n",
       "\t<tr><td>Adelie</td><td>Torgersen</td><td>  NA</td><td>  NA</td><td> NA</td><td>  NA</td><td>NA    </td><td>2007</td></tr>\n",
       "\t<tr><td>Adelie</td><td>Torgersen</td><td>36.7</td><td>19.3</td><td>193</td><td>3450</td><td>female</td><td>2007</td></tr>\n",
       "\t<tr><td>Adelie</td><td>Torgersen</td><td>39.3</td><td>20.6</td><td>190</td><td>3650</td><td>male  </td><td>2007</td></tr>\n",
       "</tbody>\n",
       "</table>\n"
      ],
      "text/latex": [
       "A tibble: 6 × 8\n",
       "\\begin{tabular}{llllllll}\n",
       " species & island & bill\\_length\\_mm & bill\\_depth\\_mm & flipper\\_length\\_mm & body\\_mass\\_g & sex & year\\\\\n",
       " <fct> & <fct> & <dbl> & <dbl> & <int> & <int> & <fct> & <int>\\\\\n",
       "\\hline\n",
       "\t Adelie & Torgersen & 39.1 & 18.7 & 181 & 3750 & male   & 2007\\\\\n",
       "\t Adelie & Torgersen & 39.5 & 17.4 & 186 & 3800 & female & 2007\\\\\n",
       "\t Adelie & Torgersen & 40.3 & 18.0 & 195 & 3250 & female & 2007\\\\\n",
       "\t Adelie & Torgersen &   NA &   NA &  NA &   NA & NA     & 2007\\\\\n",
       "\t Adelie & Torgersen & 36.7 & 19.3 & 193 & 3450 & female & 2007\\\\\n",
       "\t Adelie & Torgersen & 39.3 & 20.6 & 190 & 3650 & male   & 2007\\\\\n",
       "\\end{tabular}\n"
      ],
      "text/markdown": [
       "\n",
       "A tibble: 6 × 8\n",
       "\n",
       "| species &lt;fct&gt; | island &lt;fct&gt; | bill_length_mm &lt;dbl&gt; | bill_depth_mm &lt;dbl&gt; | flipper_length_mm &lt;int&gt; | body_mass_g &lt;int&gt; | sex &lt;fct&gt; | year &lt;int&gt; |\n",
       "|---|---|---|---|---|---|---|---|\n",
       "| Adelie | Torgersen | 39.1 | 18.7 | 181 | 3750 | male   | 2007 |\n",
       "| Adelie | Torgersen | 39.5 | 17.4 | 186 | 3800 | female | 2007 |\n",
       "| Adelie | Torgersen | 40.3 | 18.0 | 195 | 3250 | female | 2007 |\n",
       "| Adelie | Torgersen |   NA |   NA |  NA |   NA | NA     | 2007 |\n",
       "| Adelie | Torgersen | 36.7 | 19.3 | 193 | 3450 | female | 2007 |\n",
       "| Adelie | Torgersen | 39.3 | 20.6 | 190 | 3650 | male   | 2007 |\n",
       "\n"
      ],
      "text/plain": [
       "  species island    bill_length_mm bill_depth_mm flipper_length_mm body_mass_g\n",
       "1 Adelie  Torgersen 39.1           18.7          181               3750       \n",
       "2 Adelie  Torgersen 39.5           17.4          186               3800       \n",
       "3 Adelie  Torgersen 40.3           18.0          195               3250       \n",
       "4 Adelie  Torgersen   NA             NA           NA                 NA       \n",
       "5 Adelie  Torgersen 36.7           19.3          193               3450       \n",
       "6 Adelie  Torgersen 39.3           20.6          190               3650       \n",
       "  sex    year\n",
       "1 male   2007\n",
       "2 female 2007\n",
       "3 female 2007\n",
       "4 NA     2007\n",
       "5 female 2007\n",
       "6 male   2007"
      ]
     },
     "metadata": {},
     "output_type": "display_data"
    }
   ],
   "source": [
    "install.packages(\"palmerpenguins\")\n",
    "library(palmerpenguins)\n",
    "head(penguins)\n",
    "\n",
    "\n"
   ]
  },
  {
   "cell_type": "code",
   "execution_count": null,
   "id": "4544bdb2-c88f-43f9-bda8-daf59877d326",
   "metadata": {},
   "outputs": [],
   "source": [
    "1.This dataset collected through a survey of penguins in palmer reg\n",
    "2.It contains information about species,flipper length,bodymass,etc\n",
    "3.This datacan be analyed thorugh beautiful visualization"
   ]
  },
  {
   "cell_type": "code",
   "execution_count": null,
   "id": "32fa94b5-8ef1-4586-8065-b8d032731978",
   "metadata": {},
   "outputs": [],
   "source": []
  }
 ],
 "metadata": {
  "kernelspec": {
   "display_name": "R",
   "language": "R",
   "name": "conda-env-r-r"
  },
  "language_info": {
   "codemirror_mode": "r",
   "file_extension": ".r",
   "mimetype": "text/x-r-source",
   "name": "R",
   "pygments_lexer": "r",
   "version": "3.5.1"
  }
 },
 "nbformat": 4,
 "nbformat_minor": 5
}
